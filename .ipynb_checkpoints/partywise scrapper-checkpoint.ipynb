{
 "cells": [
  {
   "cell_type": "markdown",
   "metadata": {},
   "source": [
    "### Explore the HTML"
   ]
  },
  {
   "cell_type": "code",
   "execution_count": 1,
   "metadata": {},
   "outputs": [],
   "source": [
    "import requests\n",
    "web_url = 'http://results.eci.gov.in/DELHITRENDS2020/partywiseresult-U05.htm'\n",
    "r = requests.get(web_url)"
   ]
  },
  {
   "cell_type": "code",
   "execution_count": 2,
   "metadata": {},
   "outputs": [
    {
     "data": {
      "text/plain": [
       "\"<!DOCTYPE html>\\n<html>\\n<head>\\n    <title> Election Commission of India</title>\\n    <meta http-equiv='Content-Language' content='en-us'>\\n    <meta charset='UTF-8'>\\n    <meta http-equiv='Content-Type' content='text/html; charset=UTF-8'>\\n    <meta http-equiv='X-UA-Compatible' content='IE=7'>\\n    <meta http-equiv='Cache-Control' content='no-cache, no-store, must-revalidate'>\\n    <meta http-equiv='Pragma' content='no-cache'>\\n    <meta http-equiv='Expires' content='0'>\\n    <meta http-equiv='refresh' c\""
      ]
     },
     "execution_count": 2,
     "metadata": {},
     "output_type": "execute_result"
    }
   ],
   "source": [
    "r.text[0:500]"
   ]
  },
  {
   "cell_type": "code",
   "execution_count": 3,
   "metadata": {},
   "outputs": [],
   "source": [
    "from bs4 import BeautifulSoup\n",
    "soup = BeautifulSoup(r.text, 'html.parser')"
   ]
  },
  {
   "cell_type": "code",
   "execution_count": 6,
   "metadata": {},
   "outputs": [],
   "source": [
    "test = soup.find_all('tr', attrs={'style':'font-size:12px;'})"
   ]
  },
  {
   "cell_type": "code",
   "execution_count": 7,
   "metadata": {},
   "outputs": [
    {
     "data": {
      "text/plain": [
       "[<tr style=\"font-size:12px;\">\n",
       " <td align=\"left\" style=\"font-weight:bold;\">Aam Aadmi Party</td><td align=\"center\" style=\"font-weight:bold;\">62</td><td align=\"center\" style=\"font-weight:bold;\">0</td>\n",
       " <td align=\"center\" style=\"font-weight:bold;\">62</td>\n",
       " </tr>, <tr style=\"font-size:12px;\">\n",
       " <td align=\"left\" style=\"font-weight:bold;\">Bharatiya Janata Party</td><td align=\"center\" style=\"font-weight:bold;\">8</td><td align=\"center\" style=\"font-weight:bold;\">0</td>\n",
       " <td align=\"center\" style=\"font-weight:bold;\">8</td>\n",
       " </tr>]"
      ]
     },
     "execution_count": 7,
     "metadata": {},
     "output_type": "execute_result"
    }
   ],
   "source": [
    "test.c"
   ]
  },
  {
   "cell_type": "markdown",
   "metadata": {},
   "source": [
    "### Build the dataset"
   ]
  },
  {
   "cell_type": "code",
   "execution_count": 14,
   "metadata": {},
   "outputs": [],
   "source": [
    "# records = []\n",
    "# for no in range(1,71):\n",
    "#     src = 'http://results.eci.gov.in/DELHITRENDS2020/ConstituencywiseU05'+str(no)+'.htm?ac='+str(no)\n",
    "#     reqURL = requests.get(src)\n",
    "#     bsoup = BeautifulSoup(reqURL.text, 'html.parser')\n",
    "#     data_rows = soup.find_all('tr', attrs={'style':'font-size:12px;'})\n",
    "#     statecode = \"U05\"\n",
    "#     const_no = no\n",
    "#     for row in data_rows:\n",
    "#         osn = row.contents[0].text\n",
    "#         cand_name = row.contents[1].text\n",
    "#         cand_party = row.contents[2].text\n",
    "#         evm_votes = row.contents[3].text\n",
    "#         post_votes = row.contents[4].text\n",
    "#         tot_votes = row.contents[5].text\n",
    "#         perc_votes = row.contents[6].text\n",
    "#         records.append((statecode, const_no, osn, cand_name, cand_party, evm_votes, post_votes, tot_votes, perc_votes))"
   ]
  },
  {
   "cell_type": "code",
   "execution_count": 15,
   "metadata": {},
   "outputs": [
    {
     "data": {
      "text/plain": [
       "[('U05',\n",
       "  9,\n",
       "  '5',\n",
       "  'CHAND RAM',\n",
       "  'Rastriya Aam Jan Seva Party',\n",
       "  '138',\n",
       "  '0',\n",
       "  '138',\n",
       "  '0.08'),\n",
       " ('U05',\n",
       "  9,\n",
       "  '6',\n",
       "  'NAR SINGH',\n",
       "  'Sarvajan Hitay Party',\n",
       "  '603',\n",
       "  '1',\n",
       "  '604',\n",
       "  '0.36'),\n",
       " ('U05',\n",
       "  9,\n",
       "  '7',\n",
       "  'RAMESH KUMAR',\n",
       "  'Bhartiya Samajik Nyay Party',\n",
       "  '104',\n",
       "  '1',\n",
       "  '105',\n",
       "  '0.06')]"
      ]
     },
     "execution_count": 15,
     "metadata": {},
     "output_type": "execute_result"
    }
   ],
   "source": [
    "records[100:103]"
   ]
  },
  {
   "cell_type": "code",
   "execution_count": 16,
   "metadata": {},
   "outputs": [
    {
     "data": {
      "text/plain": [
       "840"
      ]
     },
     "execution_count": 16,
     "metadata": {},
     "output_type": "execute_result"
    }
   ],
   "source": [
    "len(records)"
   ]
  },
  {
   "cell_type": "code",
   "execution_count": null,
   "metadata": {},
   "outputs": [],
   "source": [
    "import pandas as pd\n",
    "\n",
    "df = pd.DataFrame(records, columns=['state_code', 'const_no', 'osn', 'cand_name', 'cand_party', 'evm_votes', 'post_votes', 'tot_votes', 'perc_votes'])"
   ]
  },
  {
   "cell_type": "code",
   "execution_count": null,
   "metadata": {},
   "outputs": [],
   "source": [
    "df.tail()"
   ]
  },
  {
   "cell_type": "markdown",
   "metadata": {},
   "source": [
    "### Convert to CSV"
   ]
  },
  {
   "cell_type": "code",
   "execution_count": null,
   "metadata": {},
   "outputs": [],
   "source": [
    "df.to_csv('output/u05_candidatewise_2020.csv', index=True, encoding='utf-8')"
   ]
  },
  {
   "cell_type": "code",
   "execution_count": null,
   "metadata": {},
   "outputs": [],
   "source": []
  }
 ],
 "metadata": {
  "kernelspec": {
   "display_name": "Python 3",
   "language": "python",
   "name": "python3"
  },
  "language_info": {
   "codemirror_mode": {
    "name": "ipython",
    "version": 3
   },
   "file_extension": ".py",
   "mimetype": "text/x-python",
   "name": "python",
   "nbconvert_exporter": "python",
   "pygments_lexer": "ipython3",
   "version": "3.7.4"
  }
 },
 "nbformat": 4,
 "nbformat_minor": 2
}
