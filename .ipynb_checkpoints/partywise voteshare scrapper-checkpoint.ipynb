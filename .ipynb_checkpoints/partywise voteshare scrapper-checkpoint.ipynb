{
 "cells": [
  {
   "cell_type": "markdown",
   "metadata": {},
   "source": [
    "### Explore the HTML"
   ]
  },
  {
   "cell_type": "code",
   "execution_count": 1,
   "metadata": {},
   "outputs": [],
   "source": [
    "import requests\n",
    "web_url = 'http://results.eci.gov.in/DELHITRENDS2020/partywiseresult-U05.htm'\n",
    "r = requests.get(web_url)"
   ]
  },
  {
   "cell_type": "code",
   "execution_count": 2,
   "metadata": {},
   "outputs": [
    {
     "data": {
      "text/plain": [
       "\"<!DOCTYPE html>\\n<html>\\n<head>\\n    <title> Election Commission of India</title>\\n    <meta http-equiv='Content-Language' content='en-us'>\\n    <meta charset='UTF-8'>\\n    <meta http-equiv='Content-Type' content='text/html; charset=UTF-8'>\\n    <meta http-equiv='X-UA-Compatible' content='IE=7'>\\n    <meta http-equiv='Cache-Control' content='no-cache, no-store, must-revalidate'>\\n    <meta http-equiv='Pragma' content='no-cache'>\\n    <meta http-equiv='Expires' content='0'>\\n    <meta http-equiv='refresh' c\""
      ]
     },
     "execution_count": 2,
     "metadata": {},
     "output_type": "execute_result"
    }
   ],
   "source": [
    "r.text[0:500]"
   ]
  },
  {
   "cell_type": "code",
   "execution_count": 3,
   "metadata": {},
   "outputs": [],
   "source": [
    "from bs4 import BeautifulSoup\n",
    "soup = BeautifulSoup(r.text, 'html.parser')"
   ]
  },
  {
   "cell_type": "code",
   "execution_count": 6,
   "metadata": {},
   "outputs": [],
   "source": [
    "test = soup.find_all('svg', attrs={'aria-label':'font-size:12px;'})"
   ]
  },
  {
   "cell_type": "code",
   "execution_count": 14,
   "metadata": {},
   "outputs": [
    {
     "data": {
      "text/plain": [
       "['\\n',\n",
       " <td align=\"left\" style=\"font-weight:bold;\">Aam Aadmi Party</td>,\n",
       " <td align=\"center\" style=\"font-weight:bold;\">62</td>,\n",
       " <td align=\"center\" style=\"font-weight:bold;\">0</td>,\n",
       " '\\n',\n",
       " <td align=\"center\" style=\"font-weight:bold;\">62</td>,\n",
       " '\\n']"
      ]
     },
     "execution_count": 14,
     "metadata": {},
     "output_type": "execute_result"
    }
   ],
   "source": [
    "test[0].contents"
   ]
  },
  {
   "cell_type": "markdown",
   "metadata": {},
   "source": [
    "### Build the dataset"
   ]
  },
  {
   "cell_type": "code",
   "execution_count": 30,
   "metadata": {},
   "outputs": [
    {
     "name": "stdout",
     "output_type": "stream",
     "text": [
      "<td align=\"center\" style=\"font-weight:bold;\">62</td>\n",
      "<td align=\"center\" style=\"font-weight:bold;\">8</td>\n"
     ]
    }
   ],
   "source": [
    "records = []\n",
    "src = 'http://results.eci.gov.in/DELHITRENDS2020/partywiseresult-U05.htm'\n",
    "reqURL = requests.get(src)\n",
    "bsoup = BeautifulSoup(reqURL.text, 'html.parser')\n",
    "data_rows = soup.find_all('tr', attrs={'style':'font-size:12px;'})\n",
    "statecode = \"U05\"\n",
    "for row in data_rows:\n",
    "    print(row.contents[5])\n",
    "    party_name = row.contents[1].text\n",
    "    party_won = row.contents[2].text\n",
    "    party_leading = row.contents[3].text\n",
    "    party_total = row.contents[5].text\n",
    "    records.append((statecode, party_name, party_won, party_leading, party_total))"
   ]
  },
  {
   "cell_type": "code",
   "execution_count": 32,
   "metadata": {},
   "outputs": [
    {
     "data": {
      "text/plain": [
       "[('U05', 'Aam Aadmi Party', '62', '0', '62'),\n",
       " ('U05', 'Bharatiya Janata Party', '8', '0', '8')]"
      ]
     },
     "execution_count": 32,
     "metadata": {},
     "output_type": "execute_result"
    }
   ],
   "source": [
    "records[0:2]"
   ]
  },
  {
   "cell_type": "code",
   "execution_count": 16,
   "metadata": {},
   "outputs": [
    {
     "data": {
      "text/plain": [
       "840"
      ]
     },
     "execution_count": 16,
     "metadata": {},
     "output_type": "execute_result"
    }
   ],
   "source": [
    "len(records)"
   ]
  },
  {
   "cell_type": "code",
   "execution_count": 33,
   "metadata": {},
   "outputs": [],
   "source": [
    "import pandas as pd\n",
    "\n",
    "df = pd.DataFrame(records, columns=['state_code', 'party_name', 'won', 'lead', 'total'])"
   ]
  },
  {
   "cell_type": "code",
   "execution_count": 34,
   "metadata": {},
   "outputs": [
    {
     "data": {
      "text/html": [
       "<div>\n",
       "<style scoped>\n",
       "    .dataframe tbody tr th:only-of-type {\n",
       "        vertical-align: middle;\n",
       "    }\n",
       "\n",
       "    .dataframe tbody tr th {\n",
       "        vertical-align: top;\n",
       "    }\n",
       "\n",
       "    .dataframe thead th {\n",
       "        text-align: right;\n",
       "    }\n",
       "</style>\n",
       "<table border=\"1\" class=\"dataframe\">\n",
       "  <thead>\n",
       "    <tr style=\"text-align: right;\">\n",
       "      <th></th>\n",
       "      <th>state_code</th>\n",
       "      <th>party_name</th>\n",
       "      <th>won</th>\n",
       "      <th>lead</th>\n",
       "      <th>total</th>\n",
       "    </tr>\n",
       "  </thead>\n",
       "  <tbody>\n",
       "    <tr>\n",
       "      <td>0</td>\n",
       "      <td>U05</td>\n",
       "      <td>Aam Aadmi Party</td>\n",
       "      <td>62</td>\n",
       "      <td>0</td>\n",
       "      <td>62</td>\n",
       "    </tr>\n",
       "    <tr>\n",
       "      <td>1</td>\n",
       "      <td>U05</td>\n",
       "      <td>Bharatiya Janata Party</td>\n",
       "      <td>8</td>\n",
       "      <td>0</td>\n",
       "      <td>8</td>\n",
       "    </tr>\n",
       "  </tbody>\n",
       "</table>\n",
       "</div>"
      ],
      "text/plain": [
       "  state_code              party_name won lead total\n",
       "0        U05         Aam Aadmi Party  62    0    62\n",
       "1        U05  Bharatiya Janata Party   8    0     8"
      ]
     },
     "execution_count": 34,
     "metadata": {},
     "output_type": "execute_result"
    }
   ],
   "source": [
    "df.tail()"
   ]
  },
  {
   "cell_type": "markdown",
   "metadata": {},
   "source": [
    "### Convert to CSV"
   ]
  },
  {
   "cell_type": "code",
   "execution_count": 35,
   "metadata": {},
   "outputs": [],
   "source": [
    "df.to_csv('output/u05_partywise_voteshare_2020.csv', index=True, encoding='utf-8')"
   ]
  },
  {
   "cell_type": "code",
   "execution_count": null,
   "metadata": {},
   "outputs": [],
   "source": []
  }
 ],
 "metadata": {
  "kernelspec": {
   "display_name": "Python 3",
   "language": "python",
   "name": "python3"
  },
  "language_info": {
   "codemirror_mode": {
    "name": "ipython",
    "version": 3
   },
   "file_extension": ".py",
   "mimetype": "text/x-python",
   "name": "python",
   "nbconvert_exporter": "python",
   "pygments_lexer": "ipython3",
   "version": "3.7.4"
  }
 },
 "nbformat": 4,
 "nbformat_minor": 2
}
